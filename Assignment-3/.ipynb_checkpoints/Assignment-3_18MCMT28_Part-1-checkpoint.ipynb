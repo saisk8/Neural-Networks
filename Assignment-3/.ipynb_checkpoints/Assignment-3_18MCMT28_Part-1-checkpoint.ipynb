{
 "cells": [
  {
   "cell_type": "markdown",
   "metadata": {},
   "source": [
    "# Assignment 3 on SVM\n",
    "By K. Sai Somanath, 18MCMT28"
   ]
  },
  {
   "cell_type": "code",
   "execution_count": 1,
   "metadata": {},
   "outputs": [],
   "source": [
    "import numpy as np\n",
    "from sklearn.decomposition import PCA\n",
    "from sklearn.model_selection import cross_val_score\n",
    "from sklearn.model_selection import GridSearchCV\n",
    "from sklearn.metrics import classification_report\n",
    "from sklearn.svm import SVC\n",
    "from sklearn.metrics import accuracy_score\n",
    "from sklearn.preprocessing import MinMaxScaler"
   ]
  },
  {
   "cell_type": "markdown",
   "metadata": {},
   "source": [
    "## Extracting data of Arcene Dataset"
   ]
  },
  {
   "cell_type": "code",
   "execution_count": 2,
   "metadata": {},
   "outputs": [],
   "source": [
    "DATA_PATH = 'Data/Arcene'\n",
    "TRAIN_FILE = DATA_PATH + '/train'\n",
    "TRAIN_LABELS_FILE = DATA_PATH + '/train_labels'\n",
    "TEST_FILE = DATA_PATH + '/test'\n",
    "TEST_LABELS_FILE = DATA_PATH + '/test_labels'"
   ]
  },
  {
   "cell_type": "code",
   "execution_count": 3,
   "metadata": {},
   "outputs": [
    {
     "data": {
      "text/plain": [
       "(100, 10000)"
      ]
     },
     "execution_count": 3,
     "metadata": {},
     "output_type": "execute_result"
    }
   ],
   "source": [
    "file_handle = open(TRAIN_FILE)\n",
    "train = np.array([list(map(int, file_handle.readline().strip().split(' '))) for _ in range(100)], dtype='float64')\n",
    "train.shape"
   ]
  },
  {
   "cell_type": "code",
   "execution_count": 4,
   "metadata": {},
   "outputs": [
    {
     "data": {
      "text/plain": [
       "(100, 10000)"
      ]
     },
     "execution_count": 4,
     "metadata": {},
     "output_type": "execute_result"
    }
   ],
   "source": [
    "file_handle = open(TEST_FILE)\n",
    "test = np.array([list(map(int, file_handle.readline().strip().split(' '))) for _ in range(100)], dtype='float64')\n",
    "test.shape"
   ]
  },
  {
   "cell_type": "code",
   "execution_count": 5,
   "metadata": {},
   "outputs": [],
   "source": [
    "file_handle = open(TRAIN_LABELS_FILE)\n",
    "y_train = np.array([int(file_handle.readline().strip()) for _ in range(100)])"
   ]
  },
  {
   "cell_type": "code",
   "execution_count": 6,
   "metadata": {},
   "outputs": [],
   "source": [
    "file_handle = open(TEST_LABELS_FILE)\n",
    "y_test = np.array([int(file_handle.readline().strip()) for _ in range(100)])"
   ]
  },
  {
   "cell_type": "markdown",
   "metadata": {},
   "source": [
    "## Apply PCA transformation to reduce the dimensions of the data"
   ]
  },
  {
   "cell_type": "markdown",
   "metadata": {},
   "source": [
    "### K = 100"
   ]
  },
  {
   "cell_type": "code",
   "execution_count": 7,
   "metadata": {},
   "outputs": [
    {
     "data": {
      "text/plain": [
       "PCA(copy=True, iterated_power='auto', n_components=100, random_state=None,\n",
       "  svd_solver='auto', tol=0.0, whiten=False)"
      ]
     },
     "execution_count": 7,
     "metadata": {},
     "output_type": "execute_result"
    }
   ],
   "source": [
    "pca = PCA(n_components=100)\n",
    "pca.fit(train)"
   ]
  },
  {
   "cell_type": "code",
   "execution_count": 8,
   "metadata": {},
   "outputs": [],
   "source": [
    "X_train = pca.transform(train)\n",
    "X_test = pca.transform(test)"
   ]
  },
  {
   "cell_type": "markdown",
   "metadata": {},
   "source": [
    "## Applying Grid Search to find the best parameters"
   ]
  },
  {
   "cell_type": "code",
   "execution_count": 9,
   "metadata": {},
   "outputs": [
    {
     "name": "stdout",
     "output_type": "stream",
     "text": [
      "# Tuning hyper-parameters for precision\n",
      "\n"
     ]
    },
    {
     "name": "stderr",
     "output_type": "stream",
     "text": [
      "/home/sai/.virtualenvs/Tensorflow/lib/python3.6/site-packages/sklearn/metrics/classification.py:1135: UndefinedMetricWarning: Precision is ill-defined and being set to 0.0 in labels with no predicted samples.\n",
      "  'precision', 'predicted', average, warn_for)\n",
      "/home/sai/.virtualenvs/Tensorflow/lib/python3.6/site-packages/sklearn/metrics/classification.py:1135: UndefinedMetricWarning: Precision is ill-defined and being set to 0.0 in labels with no predicted samples.\n",
      "  'precision', 'predicted', average, warn_for)\n",
      "/home/sai/.virtualenvs/Tensorflow/lib/python3.6/site-packages/sklearn/metrics/classification.py:1135: UndefinedMetricWarning: Precision is ill-defined and being set to 0.0 in labels with no predicted samples.\n",
      "  'precision', 'predicted', average, warn_for)\n",
      "/home/sai/.virtualenvs/Tensorflow/lib/python3.6/site-packages/sklearn/metrics/classification.py:1135: UndefinedMetricWarning: Precision is ill-defined and being set to 0.0 in labels with no predicted samples.\n",
      "  'precision', 'predicted', average, warn_for)\n",
      "/home/sai/.virtualenvs/Tensorflow/lib/python3.6/site-packages/sklearn/metrics/classification.py:1135: UndefinedMetricWarning: Precision is ill-defined and being set to 0.0 in labels with no predicted samples.\n",
      "  'precision', 'predicted', average, warn_for)\n",
      "/home/sai/.virtualenvs/Tensorflow/lib/python3.6/site-packages/sklearn/metrics/classification.py:1135: UndefinedMetricWarning: Precision is ill-defined and being set to 0.0 in labels with no predicted samples.\n",
      "  'precision', 'predicted', average, warn_for)\n",
      "/home/sai/.virtualenvs/Tensorflow/lib/python3.6/site-packages/sklearn/metrics/classification.py:1135: UndefinedMetricWarning: Precision is ill-defined and being set to 0.0 in labels with no predicted samples.\n",
      "  'precision', 'predicted', average, warn_for)\n",
      "/home/sai/.virtualenvs/Tensorflow/lib/python3.6/site-packages/sklearn/metrics/classification.py:1135: UndefinedMetricWarning: Precision is ill-defined and being set to 0.0 in labels with no predicted samples.\n",
      "  'precision', 'predicted', average, warn_for)\n",
      "/home/sai/.virtualenvs/Tensorflow/lib/python3.6/site-packages/sklearn/metrics/classification.py:1135: UndefinedMetricWarning: Precision is ill-defined and being set to 0.0 in labels with no predicted samples.\n",
      "  'precision', 'predicted', average, warn_for)\n",
      "/home/sai/.virtualenvs/Tensorflow/lib/python3.6/site-packages/sklearn/metrics/classification.py:1135: UndefinedMetricWarning: Precision is ill-defined and being set to 0.0 in labels with no predicted samples.\n",
      "  'precision', 'predicted', average, warn_for)\n",
      "/home/sai/.virtualenvs/Tensorflow/lib/python3.6/site-packages/sklearn/metrics/classification.py:1135: UndefinedMetricWarning: Precision is ill-defined and being set to 0.0 in labels with no predicted samples.\n",
      "  'precision', 'predicted', average, warn_for)\n",
      "/home/sai/.virtualenvs/Tensorflow/lib/python3.6/site-packages/sklearn/metrics/classification.py:1135: UndefinedMetricWarning: Precision is ill-defined and being set to 0.0 in labels with no predicted samples.\n",
      "  'precision', 'predicted', average, warn_for)\n",
      "/home/sai/.virtualenvs/Tensorflow/lib/python3.6/site-packages/sklearn/metrics/classification.py:1135: UndefinedMetricWarning: Precision is ill-defined and being set to 0.0 in labels with no predicted samples.\n",
      "  'precision', 'predicted', average, warn_for)\n",
      "/home/sai/.virtualenvs/Tensorflow/lib/python3.6/site-packages/sklearn/metrics/classification.py:1135: UndefinedMetricWarning: Precision is ill-defined and being set to 0.0 in labels with no predicted samples.\n",
      "  'precision', 'predicted', average, warn_for)\n",
      "/home/sai/.virtualenvs/Tensorflow/lib/python3.6/site-packages/sklearn/metrics/classification.py:1135: UndefinedMetricWarning: Precision is ill-defined and being set to 0.0 in labels with no predicted samples.\n",
      "  'precision', 'predicted', average, warn_for)\n",
      "/home/sai/.virtualenvs/Tensorflow/lib/python3.6/site-packages/sklearn/metrics/classification.py:1135: UndefinedMetricWarning: Precision is ill-defined and being set to 0.0 in labels with no predicted samples.\n",
      "  'precision', 'predicted', average, warn_for)\n",
      "/home/sai/.virtualenvs/Tensorflow/lib/python3.6/site-packages/sklearn/metrics/classification.py:1135: UndefinedMetricWarning: Precision is ill-defined and being set to 0.0 in labels with no predicted samples.\n",
      "  'precision', 'predicted', average, warn_for)\n",
      "/home/sai/.virtualenvs/Tensorflow/lib/python3.6/site-packages/sklearn/metrics/classification.py:1135: UndefinedMetricWarning: Precision is ill-defined and being set to 0.0 in labels with no predicted samples.\n",
      "  'precision', 'predicted', average, warn_for)\n",
      "/home/sai/.virtualenvs/Tensorflow/lib/python3.6/site-packages/sklearn/metrics/classification.py:1135: UndefinedMetricWarning: Precision is ill-defined and being set to 0.0 in labels with no predicted samples.\n",
      "  'precision', 'predicted', average, warn_for)\n",
      "/home/sai/.virtualenvs/Tensorflow/lib/python3.6/site-packages/sklearn/metrics/classification.py:1135: UndefinedMetricWarning: Precision is ill-defined and being set to 0.0 in labels with no predicted samples.\n",
      "  'precision', 'predicted', average, warn_for)\n",
      "/home/sai/.virtualenvs/Tensorflow/lib/python3.6/site-packages/sklearn/metrics/classification.py:1135: UndefinedMetricWarning: Precision is ill-defined and being set to 0.0 in labels with no predicted samples.\n",
      "  'precision', 'predicted', average, warn_for)\n",
      "/home/sai/.virtualenvs/Tensorflow/lib/python3.6/site-packages/sklearn/metrics/classification.py:1135: UndefinedMetricWarning: Precision is ill-defined and being set to 0.0 in labels with no predicted samples.\n",
      "  'precision', 'predicted', average, warn_for)\n",
      "/home/sai/.virtualenvs/Tensorflow/lib/python3.6/site-packages/sklearn/metrics/classification.py:1135: UndefinedMetricWarning: Precision is ill-defined and being set to 0.0 in labels with no predicted samples.\n",
      "  'precision', 'predicted', average, warn_for)\n",
      "/home/sai/.virtualenvs/Tensorflow/lib/python3.6/site-packages/sklearn/metrics/classification.py:1135: UndefinedMetricWarning: Precision is ill-defined and being set to 0.0 in labels with no predicted samples.\n",
      "  'precision', 'predicted', average, warn_for)\n",
      "/home/sai/.virtualenvs/Tensorflow/lib/python3.6/site-packages/sklearn/metrics/classification.py:1135: UndefinedMetricWarning: Precision is ill-defined and being set to 0.0 in labels with no predicted samples.\n",
      "  'precision', 'predicted', average, warn_for)\n",
      "/home/sai/.virtualenvs/Tensorflow/lib/python3.6/site-packages/sklearn/metrics/classification.py:1135: UndefinedMetricWarning: Precision is ill-defined and being set to 0.0 in labels with no predicted samples.\n",
      "  'precision', 'predicted', average, warn_for)\n",
      "/home/sai/.virtualenvs/Tensorflow/lib/python3.6/site-packages/sklearn/metrics/classification.py:1135: UndefinedMetricWarning: Precision is ill-defined and being set to 0.0 in labels with no predicted samples.\n",
      "  'precision', 'predicted', average, warn_for)\n",
      "/home/sai/.virtualenvs/Tensorflow/lib/python3.6/site-packages/sklearn/metrics/classification.py:1135: UndefinedMetricWarning: Precision is ill-defined and being set to 0.0 in labels with no predicted samples.\n",
      "  'precision', 'predicted', average, warn_for)\n",
      "/home/sai/.virtualenvs/Tensorflow/lib/python3.6/site-packages/sklearn/metrics/classification.py:1135: UndefinedMetricWarning: Precision is ill-defined and being set to 0.0 in labels with no predicted samples.\n",
      "  'precision', 'predicted', average, warn_for)\n",
      "/home/sai/.virtualenvs/Tensorflow/lib/python3.6/site-packages/sklearn/metrics/classification.py:1135: UndefinedMetricWarning: Precision is ill-defined and being set to 0.0 in labels with no predicted samples.\n",
      "  'precision', 'predicted', average, warn_for)\n",
      "/home/sai/.virtualenvs/Tensorflow/lib/python3.6/site-packages/sklearn/metrics/classification.py:1135: UndefinedMetricWarning: Precision is ill-defined and being set to 0.0 in labels with no predicted samples.\n",
      "  'precision', 'predicted', average, warn_for)\n",
      "/home/sai/.virtualenvs/Tensorflow/lib/python3.6/site-packages/sklearn/metrics/classification.py:1135: UndefinedMetricWarning: Precision is ill-defined and being set to 0.0 in labels with no predicted samples.\n",
      "  'precision', 'predicted', average, warn_for)\n",
      "/home/sai/.virtualenvs/Tensorflow/lib/python3.6/site-packages/sklearn/metrics/classification.py:1135: UndefinedMetricWarning: Precision is ill-defined and being set to 0.0 in labels with no predicted samples.\n",
      "  'precision', 'predicted', average, warn_for)\n",
      "/home/sai/.virtualenvs/Tensorflow/lib/python3.6/site-packages/sklearn/metrics/classification.py:1135: UndefinedMetricWarning: Precision is ill-defined and being set to 0.0 in labels with no predicted samples.\n",
      "  'precision', 'predicted', average, warn_for)\n",
      "/home/sai/.virtualenvs/Tensorflow/lib/python3.6/site-packages/sklearn/metrics/classification.py:1135: UndefinedMetricWarning: Precision is ill-defined and being set to 0.0 in labels with no predicted samples.\n",
      "  'precision', 'predicted', average, warn_for)\n",
      "/home/sai/.virtualenvs/Tensorflow/lib/python3.6/site-packages/sklearn/metrics/classification.py:1135: UndefinedMetricWarning: Precision is ill-defined and being set to 0.0 in labels with no predicted samples.\n",
      "  'precision', 'predicted', average, warn_for)\n",
      "/home/sai/.virtualenvs/Tensorflow/lib/python3.6/site-packages/sklearn/metrics/classification.py:1135: UndefinedMetricWarning: Precision is ill-defined and being set to 0.0 in labels with no predicted samples.\n",
      "  'precision', 'predicted', average, warn_for)\n",
      "/home/sai/.virtualenvs/Tensorflow/lib/python3.6/site-packages/sklearn/metrics/classification.py:1135: UndefinedMetricWarning: Precision is ill-defined and being set to 0.0 in labels with no predicted samples.\n",
      "  'precision', 'predicted', average, warn_for)\n",
      "/home/sai/.virtualenvs/Tensorflow/lib/python3.6/site-packages/sklearn/metrics/classification.py:1135: UndefinedMetricWarning: Precision is ill-defined and being set to 0.0 in labels with no predicted samples.\n",
      "  'precision', 'predicted', average, warn_for)\n",
      "/home/sai/.virtualenvs/Tensorflow/lib/python3.6/site-packages/sklearn/metrics/classification.py:1135: UndefinedMetricWarning: Precision is ill-defined and being set to 0.0 in labels with no predicted samples.\n",
      "  'precision', 'predicted', average, warn_for)\n",
      "/home/sai/.virtualenvs/Tensorflow/lib/python3.6/site-packages/sklearn/metrics/classification.py:1135: UndefinedMetricWarning: Precision is ill-defined and being set to 0.0 in labels with no predicted samples.\n",
      "  'precision', 'predicted', average, warn_for)\n",
      "/home/sai/.virtualenvs/Tensorflow/lib/python3.6/site-packages/sklearn/metrics/classification.py:1135: UndefinedMetricWarning: Precision is ill-defined and being set to 0.0 in labels with no predicted samples.\n",
      "  'precision', 'predicted', average, warn_for)\n",
      "/home/sai/.virtualenvs/Tensorflow/lib/python3.6/site-packages/sklearn/metrics/classification.py:1135: UndefinedMetricWarning: Precision is ill-defined and being set to 0.0 in labels with no predicted samples.\n",
      "  'precision', 'predicted', average, warn_for)\n",
      "/home/sai/.virtualenvs/Tensorflow/lib/python3.6/site-packages/sklearn/metrics/classification.py:1135: UndefinedMetricWarning: Precision is ill-defined and being set to 0.0 in labels with no predicted samples.\n",
      "  'precision', 'predicted', average, warn_for)\n",
      "/home/sai/.virtualenvs/Tensorflow/lib/python3.6/site-packages/sklearn/metrics/classification.py:1135: UndefinedMetricWarning: Precision is ill-defined and being set to 0.0 in labels with no predicted samples.\n",
      "  'precision', 'predicted', average, warn_for)\n",
      "/home/sai/.virtualenvs/Tensorflow/lib/python3.6/site-packages/sklearn/metrics/classification.py:1135: UndefinedMetricWarning: Precision is ill-defined and being set to 0.0 in labels with no predicted samples.\n",
      "  'precision', 'predicted', average, warn_for)\n",
      "/home/sai/.virtualenvs/Tensorflow/lib/python3.6/site-packages/sklearn/metrics/classification.py:1135: UndefinedMetricWarning: Precision is ill-defined and being set to 0.0 in labels with no predicted samples.\n",
      "  'precision', 'predicted', average, warn_for)\n",
      "/home/sai/.virtualenvs/Tensorflow/lib/python3.6/site-packages/sklearn/metrics/classification.py:1135: UndefinedMetricWarning: Precision is ill-defined and being set to 0.0 in labels with no predicted samples.\n",
      "  'precision', 'predicted', average, warn_for)\n",
      "/home/sai/.virtualenvs/Tensorflow/lib/python3.6/site-packages/sklearn/metrics/classification.py:1135: UndefinedMetricWarning: Precision is ill-defined and being set to 0.0 in labels with no predicted samples.\n",
      "  'precision', 'predicted', average, warn_for)\n",
      "/home/sai/.virtualenvs/Tensorflow/lib/python3.6/site-packages/sklearn/metrics/classification.py:1135: UndefinedMetricWarning: Precision is ill-defined and being set to 0.0 in labels with no predicted samples.\n",
      "  'precision', 'predicted', average, warn_for)\n"
     ]
    },
    {
     "name": "stdout",
     "output_type": "stream",
     "text": [
      "Best parameters set found on development set:\n",
      "\n",
      "{'C': 1, 'kernel': 'linear'}\n",
      "\n",
      "Grid scores on development set:\n",
      "\n",
      "0.911 (+/-0.106) for {'C': 1, 'kernel': 'linear'}\n",
      "0.911 (+/-0.106) for {'C': 10, 'kernel': 'linear'}\n",
      "0.911 (+/-0.106) for {'C': 100, 'kernel': 'linear'}\n",
      "0.911 (+/-0.106) for {'C': 1000, 'kernel': 'linear'}\n",
      "0.911 (+/-0.106) for {'C': 10000, 'kernel': 'linear'}\n",
      "0.280 (+/-0.012) for {'C': 1, 'gamma': 0.001, 'kernel': 'rbf'}\n",
      "0.280 (+/-0.012) for {'C': 1, 'gamma': 0.0001, 'kernel': 'rbf'}\n",
      "0.280 (+/-0.012) for {'C': 10, 'gamma': 0.001, 'kernel': 'rbf'}\n",
      "0.280 (+/-0.012) for {'C': 10, 'gamma': 0.0001, 'kernel': 'rbf'}\n",
      "0.280 (+/-0.012) for {'C': 100, 'gamma': 0.001, 'kernel': 'rbf'}\n",
      "0.280 (+/-0.012) for {'C': 100, 'gamma': 0.0001, 'kernel': 'rbf'}\n",
      "0.280 (+/-0.012) for {'C': 1000, 'gamma': 0.001, 'kernel': 'rbf'}\n",
      "0.280 (+/-0.012) for {'C': 1000, 'gamma': 0.0001, 'kernel': 'rbf'}\n",
      "0.280 (+/-0.012) for {'C': 10000, 'gamma': 0.001, 'kernel': 'rbf'}\n",
      "0.280 (+/-0.012) for {'C': 10000, 'gamma': 0.0001, 'kernel': 'rbf'}\n",
      "\n",
      "Detailed classification report:\n",
      "\n",
      "The model is trained on the full development set.\n",
      "The scores are computed on the full evaluation set.\n",
      "\n",
      "             precision    recall  f1-score   support\n",
      "\n",
      "         -1       0.82      0.89      0.85        56\n",
      "          1       0.85      0.75      0.80        44\n",
      "\n",
      "avg / total       0.83      0.83      0.83       100\n",
      "\n",
      "\n",
      "Final accuracy = 0.83\n",
      "# Tuning hyper-parameters for recall\n",
      "\n",
      "Best parameters set found on development set:\n",
      "\n",
      "{'C': 1, 'kernel': 'linear'}\n",
      "\n",
      "Grid scores on development set:\n",
      "\n",
      "0.898 (+/-0.112) for {'C': 1, 'kernel': 'linear'}\n",
      "0.898 (+/-0.112) for {'C': 10, 'kernel': 'linear'}\n",
      "0.898 (+/-0.112) for {'C': 100, 'kernel': 'linear'}\n",
      "0.898 (+/-0.112) for {'C': 1000, 'kernel': 'linear'}\n",
      "0.898 (+/-0.112) for {'C': 10000, 'kernel': 'linear'}\n",
      "0.500 (+/-0.000) for {'C': 1, 'gamma': 0.001, 'kernel': 'rbf'}\n",
      "0.500 (+/-0.000) for {'C': 1, 'gamma': 0.0001, 'kernel': 'rbf'}\n",
      "0.500 (+/-0.000) for {'C': 10, 'gamma': 0.001, 'kernel': 'rbf'}\n",
      "0.500 (+/-0.000) for {'C': 10, 'gamma': 0.0001, 'kernel': 'rbf'}\n",
      "0.500 (+/-0.000) for {'C': 100, 'gamma': 0.001, 'kernel': 'rbf'}\n",
      "0.500 (+/-0.000) for {'C': 100, 'gamma': 0.0001, 'kernel': 'rbf'}\n",
      "0.500 (+/-0.000) for {'C': 1000, 'gamma': 0.001, 'kernel': 'rbf'}\n",
      "0.500 (+/-0.000) for {'C': 1000, 'gamma': 0.0001, 'kernel': 'rbf'}\n",
      "0.500 (+/-0.000) for {'C': 10000, 'gamma': 0.001, 'kernel': 'rbf'}\n",
      "0.500 (+/-0.000) for {'C': 10000, 'gamma': 0.0001, 'kernel': 'rbf'}\n",
      "\n",
      "Detailed classification report:\n",
      "\n",
      "The model is trained on the full development set.\n",
      "The scores are computed on the full evaluation set.\n",
      "\n",
      "             precision    recall  f1-score   support\n",
      "\n",
      "         -1       0.82      0.89      0.85        56\n",
      "          1       0.85      0.75      0.80        44\n",
      "\n",
      "avg / total       0.83      0.83      0.83       100\n",
      "\n",
      "\n",
      "Final accuracy = 0.83\n"
     ]
    }
   ],
   "source": [
    "tuned_parameters = [\n",
    "  {'C': [1, 10, 100, 1000, 10000], 'kernel': ['linear']},\n",
    "  {'C': [1, 10, 100, 1000, 10000], 'gamma': [0.001, 0.0001], 'kernel': ['rbf']},\n",
    " ]\n",
    "scores_list = ['precision', 'recall']\n",
    "for score in scores_list:\n",
    "    print(\"# Tuning hyper-parameters for %s\" % score)\n",
    "    print()\n",
    "\n",
    "    clf = GridSearchCV(SVC(), tuned_parameters, cv=5,\n",
    "                       scoring='%s_macro' % score)\n",
    "    clf.fit(X_train, y_train)\n",
    "\n",
    "    print(\"Best parameters set found on development set:\")\n",
    "    print()\n",
    "    print(clf.best_params_)\n",
    "    print()\n",
    "    print(\"Grid scores on development set:\")\n",
    "    print()\n",
    "    means = clf.cv_results_['mean_test_score']\n",
    "    stds = clf.cv_results_['std_test_score']\n",
    "    for mean, std, params in zip(means, stds, clf.cv_results_['params']):\n",
    "        print(\"%0.3f (+/-%0.03f) for %r\"\n",
    "              % (mean, std * 2, params))\n",
    "    print()\n",
    "\n",
    "    print(\"Detailed classification report:\")\n",
    "    print()\n",
    "    print(\"The model is trained on the full development set.\")\n",
    "    print(\"The scores are computed on the full evaluation set.\")\n",
    "    print()\n",
    "    y_true, y_pred = y_test, clf.predict(X_test)\n",
    "    print(classification_report(y_true, y_pred))\n",
    "    print()\n",
    "    print(\"Final accuracy =\", accuracy_score(y_test, clf.predict(X_test)))"
   ]
  },
  {
   "cell_type": "markdown",
   "metadata": {},
   "source": [
    "Now, that its clear the $C = 1$ and linear kernel gives the best results, we used them to train the model. Also, the accuracy on the test set is about $83\\%$"
   ]
  },
  {
   "cell_type": "code",
   "execution_count": 10,
   "metadata": {},
   "outputs": [
    {
     "name": "stdout",
     "output_type": "stream",
     "text": [
      "[0.89780303 0.89780303 0.89780303 0.89780303 0.89780303 0.5\n",
      " 0.5        0.5        0.5        0.5        0.5        0.5\n",
      " 0.5        0.5        0.5       ]\n"
     ]
    }
   ],
   "source": [
    "clf_final = SVC(kernel='linear', C=1)\n",
    "clf_final.fit(X_train, y_pred)\n",
    "print(means)"
   ]
  },
  {
   "cell_type": "markdown",
   "metadata": {},
   "source": [
    "### Support Vectors"
   ]
  },
  {
   "cell_type": "code",
   "execution_count": 11,
   "metadata": {},
   "outputs": [
    {
     "name": "stdout",
     "output_type": "stream",
     "text": [
      "Number of support Vectors = 90\n"
     ]
    }
   ],
   "source": [
    "print(\"Number of support Vectors =\", len(clf_final.support_))"
   ]
  },
  {
   "cell_type": "code",
   "execution_count": 12,
   "metadata": {},
   "outputs": [
    {
     "name": "stdout",
     "output_type": "stream",
     "text": [
      "Number of suppport vectors for each class: [52 38]\n",
      "The margin support vectors = 90\n",
      "The non-margin support vectors = 0\n"
     ]
    }
   ],
   "source": [
    "print(\"Number of suppport vectors for each class:\", clf_final.n_support_ )\n",
    "print(\"The margin support vectors =\", clf_final.dual_coef_.shape[1])\n",
    "print(\"The non-margin support vectors = 0\")"
   ]
  },
  {
   "cell_type": "markdown",
   "metadata": {},
   "source": [
    "$$\n",
    "E\\left [ Out\\_Sample\\_Error \\right ] \\leq \\frac{E\\left [ Number\\_of\\_Support\\_Vectors \\right ]}{N - 1}\n",
    "$$"
   ]
  },
  {
   "cell_type": "code",
   "execution_count": 13,
   "metadata": {},
   "outputs": [
    {
     "name": "stdout",
     "output_type": "stream",
     "text": [
      "The condition holds true\n"
     ]
    }
   ],
   "source": [
    "mean = np.array(means).mean()\n",
    "if mean < len(clf_final.support_) / 99:\n",
    "    print(\"The condition holds true\")\n",
    "else:\n",
    "    print(\"The condition is false\")"
   ]
  },
  {
   "cell_type": "markdown",
   "metadata": {},
   "source": [
    "### Classification report"
   ]
  },
  {
   "cell_type": "code",
   "execution_count": 14,
   "metadata": {},
   "outputs": [
    {
     "name": "stdout",
     "output_type": "stream",
     "text": [
      "             precision    recall  f1-score   support\n",
      "\n",
      "         -1       0.82      0.89      0.85        56\n",
      "          1       0.85      0.75      0.80        44\n",
      "\n",
      "avg / total       0.83      0.83      0.83       100\n",
      "\n"
     ]
    }
   ],
   "source": [
    "print(classification_report(y_true, y_pred))"
   ]
  },
  {
   "cell_type": "markdown",
   "metadata": {},
   "source": [
    "### K = 10"
   ]
  },
  {
   "cell_type": "code",
   "execution_count": 15,
   "metadata": {},
   "outputs": [],
   "source": [
    "# k = 10\n",
    "scaler = MinMaxScaler()\n",
    "scaler.fit(train)\n",
    "X_train_s = scaler.transform(train)\n",
    "X_test_s = scaler.transform(test)\n",
    "pca = PCA(n_components=10)\n",
    "pca.fit(X_train_s)\n",
    "X1_train = pca.transform(X_train_s)\n",
    "X1_test = pca.transform(X_test_s)"
   ]
  },
  {
   "cell_type": "markdown",
   "metadata": {},
   "source": [
    "## Applying grid search for the best parameters"
   ]
  },
  {
   "cell_type": "code",
   "execution_count": 16,
   "metadata": {},
   "outputs": [
    {
     "name": "stdout",
     "output_type": "stream",
     "text": [
      "# Tuning hyper-parameters for precision\n",
      "\n"
     ]
    },
    {
     "name": "stderr",
     "output_type": "stream",
     "text": [
      "/home/sai/.virtualenvs/Tensorflow/lib/python3.6/site-packages/sklearn/metrics/classification.py:1135: UndefinedMetricWarning: Precision is ill-defined and being set to 0.0 in labels with no predicted samples.\n",
      "  'precision', 'predicted', average, warn_for)\n",
      "/home/sai/.virtualenvs/Tensorflow/lib/python3.6/site-packages/sklearn/metrics/classification.py:1135: UndefinedMetricWarning: Precision is ill-defined and being set to 0.0 in labels with no predicted samples.\n",
      "  'precision', 'predicted', average, warn_for)\n",
      "/home/sai/.virtualenvs/Tensorflow/lib/python3.6/site-packages/sklearn/metrics/classification.py:1135: UndefinedMetricWarning: Precision is ill-defined and being set to 0.0 in labels with no predicted samples.\n",
      "  'precision', 'predicted', average, warn_for)\n",
      "/home/sai/.virtualenvs/Tensorflow/lib/python3.6/site-packages/sklearn/metrics/classification.py:1135: UndefinedMetricWarning: Precision is ill-defined and being set to 0.0 in labels with no predicted samples.\n",
      "  'precision', 'predicted', average, warn_for)\n",
      "/home/sai/.virtualenvs/Tensorflow/lib/python3.6/site-packages/sklearn/metrics/classification.py:1135: UndefinedMetricWarning: Precision is ill-defined and being set to 0.0 in labels with no predicted samples.\n",
      "  'precision', 'predicted', average, warn_for)\n"
     ]
    },
    {
     "name": "stdout",
     "output_type": "stream",
     "text": [
      "Best parameters set found on development set:\n",
      "\n",
      "{'C': 1000, 'gamma': 0.001, 'kernel': 'rbf'}\n",
      "\n",
      "Grid scores on development set:\n",
      "\n",
      "0.724 (+/-0.127) for {'C': 1, 'kernel': 'linear'}\n",
      "0.732 (+/-0.111) for {'C': 10, 'kernel': 'linear'}\n",
      "0.732 (+/-0.111) for {'C': 100, 'kernel': 'linear'}\n",
      "0.732 (+/-0.111) for {'C': 1000, 'kernel': 'linear'}\n",
      "0.786 (+/-0.213) for {'C': 1, 'gamma': 0.01, 'kernel': 'rbf'}\n",
      "0.658 (+/-0.190) for {'C': 1, 'gamma': 0.001, 'kernel': 'rbf'}\n",
      "0.280 (+/-0.012) for {'C': 1, 'gamma': 0.0001, 'kernel': 'rbf'}\n",
      "0.830 (+/-0.163) for {'C': 10, 'gamma': 0.01, 'kernel': 'rbf'}\n",
      "0.807 (+/-0.181) for {'C': 10, 'gamma': 0.001, 'kernel': 'rbf'}\n",
      "0.619 (+/-0.172) for {'C': 10, 'gamma': 0.0001, 'kernel': 'rbf'}\n",
      "0.846 (+/-0.121) for {'C': 100, 'gamma': 0.01, 'kernel': 'rbf'}\n",
      "0.832 (+/-0.086) for {'C': 100, 'gamma': 0.001, 'kernel': 'rbf'}\n",
      "0.791 (+/-0.046) for {'C': 100, 'gamma': 0.0001, 'kernel': 'rbf'}\n",
      "0.805 (+/-0.120) for {'C': 1000, 'gamma': 0.01, 'kernel': 'rbf'}\n",
      "0.865 (+/-0.091) for {'C': 1000, 'gamma': 0.001, 'kernel': 'rbf'}\n",
      "0.849 (+/-0.052) for {'C': 1000, 'gamma': 0.0001, 'kernel': 'rbf'}\n",
      "\n",
      "Detailed classification report:\n",
      "\n",
      "The model is trained on the full development set.\n",
      "The scores are computed on the full evaluation set.\n",
      "\n",
      "             precision    recall  f1-score   support\n",
      "\n",
      "         -1       0.85      0.89      0.87        56\n",
      "          1       0.85      0.80      0.82        44\n",
      "\n",
      "avg / total       0.85      0.85      0.85       100\n",
      "\n",
      "\n",
      "Final accuracy = 0.85\n",
      "# Tuning hyper-parameters for recall\n",
      "\n",
      "Best parameters set found on development set:\n",
      "\n",
      "{'C': 1000, 'gamma': 0.0001, 'kernel': 'rbf'}\n",
      "\n",
      "Grid scores on development set:\n",
      "\n",
      "0.723 (+/-0.124) for {'C': 1, 'kernel': 'linear'}\n",
      "0.732 (+/-0.108) for {'C': 10, 'kernel': 'linear'}\n",
      "0.732 (+/-0.108) for {'C': 100, 'kernel': 'linear'}\n",
      "0.732 (+/-0.108) for {'C': 1000, 'kernel': 'linear'}\n",
      "0.783 (+/-0.219) for {'C': 1, 'gamma': 0.01, 'kernel': 'rbf'}\n",
      "0.660 (+/-0.193) for {'C': 1, 'gamma': 0.001, 'kernel': 'rbf'}\n",
      "0.500 (+/-0.000) for {'C': 1, 'gamma': 0.0001, 'kernel': 'rbf'}\n",
      "0.821 (+/-0.162) for {'C': 10, 'gamma': 0.01, 'kernel': 'rbf'}\n",
      "0.805 (+/-0.186) for {'C': 10, 'gamma': 0.001, 'kernel': 'rbf'}\n",
      "0.619 (+/-0.176) for {'C': 10, 'gamma': 0.0001, 'kernel': 'rbf'}\n",
      "0.818 (+/-0.144) for {'C': 100, 'gamma': 0.01, 'kernel': 'rbf'}\n",
      "0.829 (+/-0.085) for {'C': 100, 'gamma': 0.001, 'kernel': 'rbf'}\n",
      "0.793 (+/-0.046) for {'C': 100, 'gamma': 0.0001, 'kernel': 'rbf'}\n",
      "0.786 (+/-0.101) for {'C': 1000, 'gamma': 0.01, 'kernel': 'rbf'}\n",
      "0.845 (+/-0.112) for {'C': 1000, 'gamma': 0.001, 'kernel': 'rbf'}\n",
      "0.848 (+/-0.055) for {'C': 1000, 'gamma': 0.0001, 'kernel': 'rbf'}\n",
      "\n",
      "Detailed classification report:\n",
      "\n",
      "The model is trained on the full development set.\n",
      "The scores are computed on the full evaluation set.\n",
      "\n",
      "             precision    recall  f1-score   support\n",
      "\n",
      "         -1       0.82      0.73      0.77        56\n",
      "          1       0.70      0.80      0.74        44\n",
      "\n",
      "avg / total       0.77      0.76      0.76       100\n",
      "\n",
      "\n",
      "Final accuracy = 0.76\n"
     ]
    }
   ],
   "source": [
    "tuned_parameters = [\n",
    "  {'C': [1, 10, 100, 1000], 'kernel': ['linear']},\n",
    "  {'C': [1, 10, 100, 1000], 'gamma': [0.01, 0.001, 0.0001], 'kernel': ['rbf']},\n",
    " ]\n",
    "scores_list = ['precision', 'recall']\n",
    "for score in scores_list:\n",
    "    print(\"# Tuning hyper-parameters for %s\" % score)\n",
    "    print()\n",
    "\n",
    "    clf = GridSearchCV(SVC(), tuned_parameters, cv=5,\n",
    "                       scoring='%s_macro' % score)\n",
    "    clf.fit(X1_train, y_train)\n",
    "\n",
    "    print(\"Best parameters set found on development set:\")\n",
    "    print()\n",
    "    print(clf.best_params_)\n",
    "    print()\n",
    "    print(\"Grid scores on development set:\")\n",
    "    print()\n",
    "    means = clf.cv_results_['mean_test_score']\n",
    "    stds = clf.cv_results_['std_test_score']\n",
    "    for mean, std, params in zip(means, stds, clf.cv_results_['params']):\n",
    "        print(\"%0.3f (+/-%0.03f) for %r\"\n",
    "              % (mean, std * 2, params))\n",
    "    print()\n",
    "\n",
    "    print(\"Detailed classification report:\")\n",
    "    print()\n",
    "    print(\"The model is trained on the full development set.\")\n",
    "    print(\"The scores are computed on the full evaluation set.\")\n",
    "    print()\n",
    "    y_true, y_pred = y_test, clf.predict(X1_test)\n",
    "    print(classification_report(y_true, y_pred))\n",
    "    print()\n",
    "    print(\"Final accuracy =\", accuracy_score(y_test, clf.predict(X1_test)))"
   ]
  },
  {
   "cell_type": "code",
   "execution_count": 17,
   "metadata": {},
   "outputs": [
    {
     "name": "stdout",
     "output_type": "stream",
     "text": [
      "             precision    recall  f1-score   support\n",
      "\n",
      "         -1       0.85      0.89      0.87        56\n",
      "          1       0.85      0.80      0.82        44\n",
      "\n",
      "avg / total       0.85      0.85      0.85       100\n",
      "\n",
      "Final accuracy = 0.85\n"
     ]
    }
   ],
   "source": [
    "c = 1000\n",
    "clf_final_2 = SVC(kernel='rbf', C=c, gamma=0.001)\n",
    "clf_final_2.fit(X1_train, y_train)\n",
    "y_true, y_pred = y_test, clf_final_2.predict(X1_test)\n",
    "print(classification_report(y_true, y_pred))\n",
    "print(\"Final accuracy =\", accuracy_score(y_test, clf_final_2.predict(X1_test)))"
   ]
  },
  {
   "cell_type": "markdown",
   "metadata": {},
   "source": [
    "Now, that its clear the $C = 1000$,  $\\gamma = 0.001$ and RBF kernel gives the best results, we used them to train the model. Also, the accuracy on the test set is about $85\\%$"
   ]
  },
  {
   "cell_type": "markdown",
   "metadata": {},
   "source": [
    "### Support Vectors"
   ]
  },
  {
   "cell_type": "code",
   "execution_count": 18,
   "metadata": {},
   "outputs": [
    {
     "name": "stdout",
     "output_type": "stream",
     "text": [
      "Number of support Vectors = 44\n",
      "Number of suppport vectors for each class: [20 24]\n",
      "The margin support vectors = 31\n",
      "The non-margin support vectors = 13\n"
     ]
    }
   ],
   "source": [
    "print(\"Number of support Vectors =\", len(clf_final_2.support_))\n",
    "print(\"Number of suppport vectors for each class:\", clf_final_2.n_support_ )\n",
    "alphas = np.absolute(clf_final_2.dual_coef_)\n",
    "msv = np.count_nonzero(alphas == c)\n",
    "print(\"The margin support vectors =\", clf_final_2.dual_coef_.shape[1] - msv)\n",
    "print(\"The non-margin support vectors =\", msv)"
   ]
  },
  {
   "cell_type": "markdown",
   "metadata": {},
   "source": [
    "$$\n",
    "E\\left [ Out\\_Sample\\_Error \\right ] \\leq \\frac{E\\left [ Number\\_of\\_Support\\_Vectors \\right ]}{N - 1}\n",
    "$$"
   ]
  },
  {
   "cell_type": "code",
   "execution_count": 19,
   "metadata": {},
   "outputs": [
    {
     "name": "stdout",
     "output_type": "stream",
     "text": [
      "The condition holds true\n"
     ]
    }
   ],
   "source": [
    "mean = np.array(means).mean()\n",
    "if mean < len(clf_final.support_) / 99:\n",
    "    print(\"The condition holds true\")\n",
    "else:\n",
    "    print(\"The condition is false\")"
   ]
  },
  {
   "cell_type": "markdown",
   "metadata": {},
   "source": [
    "### Classification report"
   ]
  },
  {
   "cell_type": "code",
   "execution_count": 20,
   "metadata": {},
   "outputs": [
    {
     "name": "stdout",
     "output_type": "stream",
     "text": [
      "             precision    recall  f1-score   support\n",
      "\n",
      "         -1       0.85      0.89      0.87        56\n",
      "          1       0.85      0.80      0.82        44\n",
      "\n",
      "avg / total       0.85      0.85      0.85       100\n",
      "\n"
     ]
    }
   ],
   "source": [
    "print(classification_report(y_true, y_pred))"
   ]
  },
  {
   "cell_type": "markdown",
   "metadata": {},
   "source": [
    "## Analysis\n",
    "\n",
    "The training proves to be challenging as the data available for training is very less.\n",
    "1. Grid search had to be used to find the best parameters. In each iteration we exhuastively search for the best parameters using the 5-fold Cross-Validation.\n",
    "2. In both the cases; k=100, k=10; the formula for the generalisation error is satisfied.\n",
    "3. The Number of support vectors for both k=10 and k=100 are very high as the data was reduced from a very high dimesion (10000) to a low dimension (100, 10) space.\n",
    "4. Also, considering the fact that the number of training samples equals number of test sample, and also that the number is a mere 100 points, we get really bad accuracy rates (about 30%) in some folds of cross validation.\n",
    "5. When k=100, there is not much effect to the accuracy when the C value is changed to 10, 100, 1000, 10000 respectively. The accuracy remains the same. \n",
    "6. When using the linear kernel, the number of margin support vectors( $\\alpha = C$ ) is $0$\n",
    "7. The rbf kernel seems to perform better when the data is reduced to 10 dimensional PCA space."
   ]
  },
  {
   "cell_type": "markdown",
   "metadata": {},
   "source": []
  },
  {
   "cell_type": "code",
   "execution_count": null,
   "metadata": {},
   "outputs": [],
   "source": []
  }
 ],
 "metadata": {
  "kernelspec": {
   "display_name": "Python 3",
   "language": "python",
   "name": "python3"
  },
  "language_info": {
   "codemirror_mode": {
    "name": "ipython",
    "version": 3
   },
   "file_extension": ".py",
   "mimetype": "text/x-python",
   "name": "python",
   "nbconvert_exporter": "python",
   "pygments_lexer": "ipython3",
   "version": "3.6.5"
  }
 },
 "nbformat": 4,
 "nbformat_minor": 2
}
